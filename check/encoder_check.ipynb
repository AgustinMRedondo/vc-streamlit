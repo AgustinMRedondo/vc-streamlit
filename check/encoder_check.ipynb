{
 "cells": [
  {
   "cell_type": "code",
   "execution_count": 69,
   "metadata": {},
   "outputs": [],
   "source": [
    "import pickle\n",
    "import numpy as np\n",
    "import pandas as pd\n",
    "import streamlit as st\n",
    "from PIL import Image"
   ]
  },
  {
   "cell_type": "code",
   "execution_count": 70,
   "metadata": {},
   "outputs": [],
   "source": [
    "valid_country_codes = ['IND', 'USA', 'Other', 'CHN', 'HKG', 'CAN', 'CHL', 'GBR', 'FRA',\n",
    "       'AUS', 'ROM', 'KOR', 'NLD', 'DNK', 'NOR', 'COL', 'ESP', 'BEL',\n",
    "       'IRL', 'ITA', 'SWE', 'SGP', 'RUS', 'NZL', 'CHE', 'BRA', 'SVN',\n",
    "       'JOR', 'HUN', 'JPN', 'DEU', 'NGA', 'ISR', 'FIN', 'CRI', 'IDN',\n",
    "       'PRT', 'ARG', 'TWN', 'THA', 'UKR', 'LTU', 'ISL', 'MEX', 'TUR',\n",
    "       'URY', 'AUT', 'ZAF', 'PHL', 'MYS', 'PER', 'POL', 'VNM', 'UGA',\n",
    "       'HRV', 'EST', 'LBN', 'BGR', 'SVK', 'LUX', 'CZE', 'ARE', 'SAU',\n",
    "       'PAK', 'LVA', 'GHA', 'TAN', 'PRI', 'GRC', 'BLR', 'BMU', 'LIE',\n",
    "       'SLV', 'GEO', 'GTM']\n",
    "valid_industry = ['Social Media', 'Other', 'Web', 'Analytics', 'Internet',\n",
    "       'Search Engine', 'B2C', 'Services', 'Management', 'Social']"
   ]
  },
  {
   "cell_type": "code",
   "execution_count": 71,
   "metadata": {},
   "outputs": [],
   "source": [
    "funding_amount = 114304\n",
    "country_code = \"HRV\"\n",
    "funding_rounds = 4\n",
    "year = 2014\n",
    "lapse_months = 28\n",
    "industry_cluster = \"Other\""
   ]
  },
  {
   "cell_type": "code",
   "execution_count": 72,
   "metadata": {},
   "outputs": [],
   "source": [
    "    X = pd.DataFrame({'funding_total_usd':[funding_amount],\n",
    "                      'country_code':[country_code],\n",
    "                      'funding_rounds':[funding_rounds],\n",
    "                      'last_funding_at':[year],\n",
    "                      'lapse_months':[lapse_months],\n",
    "                      'cluster_industry':[industry_cluster]\n",
    "                     })"
   ]
  },
  {
   "cell_type": "code",
   "execution_count": 73,
   "metadata": {},
   "outputs": [
    {
     "data": {
      "text/html": [
       "<div>\n",
       "<style scoped>\n",
       "    .dataframe tbody tr th:only-of-type {\n",
       "        vertical-align: middle;\n",
       "    }\n",
       "\n",
       "    .dataframe tbody tr th {\n",
       "        vertical-align: top;\n",
       "    }\n",
       "\n",
       "    .dataframe thead th {\n",
       "        text-align: right;\n",
       "    }\n",
       "</style>\n",
       "<table border=\"1\" class=\"dataframe\">\n",
       "  <thead>\n",
       "    <tr style=\"text-align: right;\">\n",
       "      <th></th>\n",
       "      <th>funding_total_usd</th>\n",
       "      <th>country_code</th>\n",
       "      <th>funding_rounds</th>\n",
       "      <th>last_funding_at</th>\n",
       "      <th>lapse_months</th>\n",
       "      <th>cluster_industry</th>\n",
       "    </tr>\n",
       "  </thead>\n",
       "  <tbody>\n",
       "    <tr>\n",
       "      <th>0</th>\n",
       "      <td>114304</td>\n",
       "      <td>HRV</td>\n",
       "      <td>4</td>\n",
       "      <td>2014</td>\n",
       "      <td>28</td>\n",
       "      <td>Other</td>\n",
       "    </tr>\n",
       "  </tbody>\n",
       "</table>\n",
       "</div>"
      ],
      "text/plain": [
       "   funding_total_usd country_code  funding_rounds  last_funding_at  \\\n",
       "0             114304          HRV               4             2014   \n",
       "\n",
       "   lapse_months cluster_industry  \n",
       "0            28            Other  "
      ]
     },
     "execution_count": 73,
     "metadata": {},
     "output_type": "execute_result"
    }
   ],
   "source": [
    "X"
   ]
  },
  {
   "cell_type": "code",
   "execution_count": 74,
   "metadata": {},
   "outputs": [],
   "source": [
    "numerical = X.select_dtypes(include = np.number)\n",
    "categorical = X.select_dtypes(include = object)"
   ]
  },
  {
   "cell_type": "code",
   "execution_count": 75,
   "metadata": {},
   "outputs": [
    {
     "data": {
      "text/html": [
       "<div>\n",
       "<style scoped>\n",
       "    .dataframe tbody tr th:only-of-type {\n",
       "        vertical-align: middle;\n",
       "    }\n",
       "\n",
       "    .dataframe tbody tr th {\n",
       "        vertical-align: top;\n",
       "    }\n",
       "\n",
       "    .dataframe thead th {\n",
       "        text-align: right;\n",
       "    }\n",
       "</style>\n",
       "<table border=\"1\" class=\"dataframe\">\n",
       "  <thead>\n",
       "    <tr style=\"text-align: right;\">\n",
       "      <th></th>\n",
       "      <th>country_code</th>\n",
       "      <th>cluster_industry</th>\n",
       "    </tr>\n",
       "  </thead>\n",
       "  <tbody>\n",
       "    <tr>\n",
       "      <th>0</th>\n",
       "      <td>HRV</td>\n",
       "      <td>Other</td>\n",
       "    </tr>\n",
       "  </tbody>\n",
       "</table>\n",
       "</div>"
      ],
      "text/plain": [
       "  country_code cluster_industry\n",
       "0          HRV            Other"
      ]
     },
     "execution_count": 75,
     "metadata": {},
     "output_type": "execute_result"
    }
   ],
   "source": [
    "categorical"
   ]
  },
  {
   "cell_type": "code",
   "execution_count": 76,
   "metadata": {},
   "outputs": [],
   "source": [
    "encoder_file_path = 'one_hot_encoder.pkl'\n",
    "with open(encoder_file_path, 'rb') as file:\n",
    "    loaded_encoder = pickle.load(file)"
   ]
  },
  {
   "cell_type": "code",
   "execution_count": 77,
   "metadata": {},
   "outputs": [],
   "source": [
    "column_names = ['country_code_ARE', 'country_code_ARG', 'country_code_AUS',\n",
    "       'country_code_AUT', 'country_code_BEL', 'country_code_BGR',\n",
    "       'country_code_BLM', 'country_code_BLR', 'country_code_BMU',\n",
    "       'country_code_BRA', 'country_code_CAN', 'country_code_CHE',\n",
    "       'country_code_CHL', 'country_code_CHN', 'country_code_COL',\n",
    "       'country_code_CRI', 'country_code_CZE', 'country_code_DEU',\n",
    "       'country_code_DNK', 'country_code_ESP', 'country_code_EST',\n",
    "       'country_code_FIN', 'country_code_FRA', 'country_code_GBR',\n",
    "       'country_code_GEO', 'country_code_GHA', 'country_code_GRC',\n",
    "       'country_code_GTM', 'country_code_HKG', 'country_code_HRV',\n",
    "       'country_code_HUN', 'country_code_IDN', 'country_code_IND',\n",
    "       'country_code_IRL', 'country_code_ISL', 'country_code_ISR',\n",
    "       'country_code_ITA', 'country_code_JOR', 'country_code_JPN',\n",
    "       'country_code_KOR', 'country_code_LBN', 'country_code_LIE',\n",
    "       'country_code_LTU', 'country_code_LUX', 'country_code_LVA',\n",
    "       'country_code_MAF', 'country_code_MEX', 'country_code_MYS',\n",
    "       'country_code_NGA', 'country_code_NLD', 'country_code_NOR',\n",
    "       'country_code_NZL', 'country_code_Other', 'country_code_PAK',\n",
    "       'country_code_PER', 'country_code_PHL', 'country_code_POL',\n",
    "       'country_code_PRI', 'country_code_PRT', 'country_code_ROM',\n",
    "       'country_code_RUS', 'country_code_SAU', 'country_code_SGP',\n",
    "       'country_code_SLV', 'country_code_SOM', 'country_code_SVK',\n",
    "       'country_code_SVN', 'country_code_SWE', 'country_code_SYC',\n",
    "       'country_code_TAN', 'country_code_THA', 'country_code_TUR',\n",
    "       'country_code_TWN', 'country_code_UGA', 'country_code_UKR',\n",
    "       'country_code_URY', 'country_code_USA', 'country_code_VNM',\n",
    "       'country_code_ZAF', 'cluster_industry_Analytics',\n",
    "       'cluster_industry_B2C', 'cluster_industry_Internet',\n",
    "       'cluster_industry_Management', 'cluster_industry_Other',\n",
    "       'cluster_industry_Search Engine', 'cluster_industry_Services',\n",
    "       'cluster_industry_Social', 'cluster_industry_Social Media',\n",
    "       'cluster_industry_Web']"
   ]
  },
  {
   "cell_type": "code",
   "execution_count": 78,
   "metadata": {},
   "outputs": [],
   "source": [
    "cat_transformed = loaded_encoder.transform(categorical).toarray()\n",
    "categorical = pd.DataFrame(cat_transformed)"
   ]
  },
  {
   "cell_type": "code",
   "execution_count": 79,
   "metadata": {},
   "outputs": [],
   "source": [
    "categorical.columns = column_names\n"
   ]
  },
  {
   "cell_type": "code",
   "execution_count": 80,
   "metadata": {},
   "outputs": [],
   "source": [
    "X = pd.concat([numerical, categorical], axis=1)"
   ]
  },
  {
   "cell_type": "code",
   "execution_count": 81,
   "metadata": {},
   "outputs": [],
   "source": [
    "transformer_file_path = 'standard_scaler.pkl'\n",
    "with open(transformer_file_path, 'rb') as file:\n",
    "    loaded_transformer = pickle.load(file)"
   ]
  },
  {
   "cell_type": "code",
   "execution_count": 82,
   "metadata": {},
   "outputs": [],
   "source": [
    "model_file_path = 'LRM_model.pkl'\n",
    "with open(model_file_path, 'rb') as file:\n",
    "    loaded_model = pickle.load(file)"
   ]
  },
  {
   "cell_type": "code",
   "execution_count": 83,
   "metadata": {},
   "outputs": [],
   "source": [
    "X_scaled = loaded_transformer.transform(X)"
   ]
  },
  {
   "cell_type": "code",
   "execution_count": 84,
   "metadata": {},
   "outputs": [],
   "source": [
    "prediction = loaded_model.predict(X_scaled)"
   ]
  },
  {
   "cell_type": "code",
   "execution_count": 85,
   "metadata": {},
   "outputs": [
    {
     "data": {
      "text/plain": [
       "array([1])"
      ]
     },
     "execution_count": 85,
     "metadata": {},
     "output_type": "execute_result"
    }
   ],
   "source": [
    "prediction"
   ]
  },
  {
   "cell_type": "code",
   "execution_count": 86,
   "metadata": {},
   "outputs": [
    {
     "data": {
      "text/plain": [
       "array([[3.01029892e-04, 9.99698970e-01]])"
      ]
     },
     "execution_count": 86,
     "metadata": {},
     "output_type": "execute_result"
    }
   ],
   "source": [
    "prediction_probs = loaded_model.predict_proba(X_scaled)\n",
    "prediction_probs"
   ]
  }
 ],
 "metadata": {
  "kernelspec": {
   "display_name": "Python 3 (ipykernel)",
   "language": "python",
   "name": "python3"
  },
  "language_info": {
   "codemirror_mode": {
    "name": "ipython",
    "version": 3
   },
   "file_extension": ".py",
   "mimetype": "text/x-python",
   "name": "python",
   "nbconvert_exporter": "python",
   "pygments_lexer": "ipython3",
   "version": "3.11.4"
  },
  "orig_nbformat": 4
 },
 "nbformat": 4,
 "nbformat_minor": 2
}
